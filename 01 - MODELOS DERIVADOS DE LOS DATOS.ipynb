{
 "cells": [
  {
   "cell_type": "markdown",
   "metadata": {},
   "source": [
    "## ¿Qué es _Machine Learning (ML)_?\n"
   ]
  },
  {
   "cell_type": "markdown",
   "metadata": {},
   "source": [
    "![alt](imgs/models.png)\n"
   ]
  },
  {
   "cell_type": "markdown",
   "metadata": {},
   "source": [
    "\n",
    "### modelos analíticos de siempre\n",
    "\n",
    "![alt](imgs/analytical-models.png)"
   ]
  },
  {
   "cell_type": "markdown",
   "metadata": {},
   "source": [
    "### modelos derivados de los datos\n",
    "\n",
    "![alt](imgs/model-creation.png)\n"
   ]
  },
  {
   "cell_type": "markdown",
   "metadata": {},
   "source": [
    "### modelos derivados de los datos (en realidad)\n",
    "\n",
    "![alt](imgs/model-template.png)"
   ]
  },
  {
   "cell_type": "markdown",
   "metadata": {},
   "source": [
    "### Pero la metodología no cambia\n",
    "\n",
    "**Primero** realizamos experimentos (ciencia), **después** desarrollamos productos (ingeniería)\n",
    "\n",
    "![alt](imgs/science_engineering.png)\n",
    "\n",
    "Dos roles $\\rightarrow$ dos flujos de trabajo:\n",
    "\n",
    "- **diseñador** de algoritmos de ML $\\rightarrow$ se enfoca en cómo se **genera un modelo**.\n",
    "- **usuario** de algoritmos de ML $\\rightarrow$ se enfoca que **calibrar modelos** respecto a unos datos concretos."
   ]
  },
  {
   "cell_type": "markdown",
   "metadata": {},
   "source": [
    "# El origen de los datos. Fronteras de clasificación\n",
    "\n",
    "**Caso ideal**: Sabemos las distribuciones de las que vienen los datos. $\\Rightarrow$ podemos calcular analíticamente nuestro modelo.\n",
    "\n",
    "- ¿Podemos encontrar un modelo con 100% de acierto? ¿Por qué sí, o por qué no?\n"
   ]
  },
  {
   "cell_type": "markdown",
   "metadata": {},
   "source": [
    "**Caso en 2D**\n",
    "\n",
    "- en 2D, un modelo de clasificación **es una frontera** en el plano\n",
    "\n",
    "### observa las siguientes poblaciones de ejemplo\n",
    "\n",
    "- supongamos tenemos acceso a las **distribuciones de las que vienen los datos** (en realidad, nunca es así!!!)\n",
    "\n",
    "- observa que podemos calcular la **FRONTERA NATURAL (bayesiana)** y el **error NATURAL (bayesiano)** que produce esa frontera  \n",
    "\n",
    "- $\\rightarrow$ esto es analítico, **NO NECESITAMOS LOS DATOS**\n",
    "\n",
    "### Procedimiento experimental\n",
    "\n",
    "1. Define las distribuciones de trilobytes africanos y americanos con los cuatro parámetros de cada uno\n",
    "1. Los trilobytes A, B, C, D y E **no están clasificados**. Es decir, no sabemos si son Americanos o Africanos\n",
    "1. A la vista de las distribuciones, hazte las siguientes preguntas:\n",
    "   - ¿Como clasificarías a cada trilobyte A, B, etc.?\n",
    "   - ¿Qué confianza puedes tener en tu clasificación? ¿qué error podrías estar cometiendo?\n",
    "1. Habilita mostrar las fronteras NATURALES\n",
    "1. Interpreta el error bayesiano indicado en función de la posición relativa de la frontera y las distribuciones\n",
    "1. Repite el experimento con poblaciones más mezcladas y más separadas, remuestreando los puntos, etc\n",
    "\n"
   ]
  },
  {
   "cell_type": "code",
   "execution_count": 1,
   "metadata": {},
   "outputs": [
    {
     "data": {
      "application/vnd.jupyter.widget-view+json": {
       "model_id": "945a7a37f2ad4055a3b85db7736d63d1",
       "version_major": 2,
       "version_minor": 0
      },
      "text/plain": [
       "VBox(children=(GridBox(children=(FloatSlider(value=1.0, continuous_update=False, description=' ', layout=Layou…"
      ]
     },
     "metadata": {},
     "output_type": "display_data"
    }
   ],
   "source": [
    "import mlutils\n",
    "%matplotlib inline\n",
    "params = mlutils.interact_distributions()"
   ]
  },
  {
   "cell_type": "markdown",
   "metadata": {},
   "source": [
    "# Usando los datos para estimar la frontera de clasificación \n",
    "\n",
    "en general **SOLO TENEMOS UNA MUESTRA** de los datos, porque no tenemos conocimiento de las distribuciones que los generan. Los métodos de **estadística** y de **machine learning** están diseñados para esta situación.\n",
    "\n",
    "Ejecuta la siguiente celda y pregúntate cada vez, **¿qué frontera establecerías con los datos que ves?**.\n",
    "\n",
    "Fíjate que tenemos distintas muestras de una misma disitribución de base. Es decir, **la realidad detrás de estos datos siempre es la misma**.\n",
    "\n",
    "\n",
    "### Experimento 1:\n",
    "**Aumenta** el número de muestras y hazte cada vez la misma pregunta.\n",
    "\n",
    "$\\rightarrow$ ¿Cómo determinamos donde poner la frontera?\n",
    "\n",
    "$\\rightarrow$ ¿Qué frontera qusiéramos obtener?\n",
    "\n",
    "ten en cuenta que **la frontera de clasificación**:\n",
    "    \n",
    "1. se estima **con los datos de TRAIN** $\\rightarrow$ desempeño en calibración\n",
    "2. se coloca **sobre los datos de TEST** $\\rightarrow$ desempeño en **generalización**\n",
    "\n",
    "### Experimento 2:\n",
    "\n",
    "1. Elije distintos clasificadores y observa cómo:\n",
    "    1. se calibra la frontera con los datos de train y se mide el desempeño en calibración (TRAIN)\n",
    "    2. se coloca la frontera sobre los datos de test y se mide el **desempeño en generalización** (TEST)\n",
    "\n",
    "2. Aumenta el número de muestras y cambia el porcentaje de datos de test. Observa:\n",
    "    1. ¿En qué condiciones el desempeño en train y test es parecido?\n",
    "    2. ¿Cuánto cambia la frontera con distintas muestras? ¿Qué estable es cada frontera con cada clasificador?\n",
    "    3. ¿Qué clasificadores generan fronteras **más complejas**?\n",
    "    \n",
    "### Experimento 3:\n",
    "\n",
    "Repite el experimento anterior, con **datos muy mezclados** (modifica la distribuciones en la aplicación anterior), mostrando las fronteras naturales\n",
    "\n",
    "1. ¿Qué clasificadores generan fronteras más cercanas a la frontera NATURAL?\n",
    "2. Si sólo miramos el desempeño en TRAIN y TEST ¿Qué condicionees nos indicaría que estamos cerca de la frontera NATURAL?\n",
    "   1. TRAIN y TEST tienen desempeños parecidos\n",
    "   2. TRAIN tiene un buen desempeño, independientemente de lo que suceda con TEST\n",
    "   3. TEST tiene un buen desempeño, independientemente de lo que suceda con TRAIN\n",
    "   \n",
    "3. ¿Qué clasificador escogerías y con cuantos datos lo entrenarías **si no supieras donde está la frontera NATURAL**?"
   ]
  },
  {
   "cell_type": "code",
   "execution_count": 145,
   "metadata": {},
   "outputs": [
    {
     "data": {
      "application/vnd.jupyter.widget-view+json": {
       "model_id": "484cd019f644413696fb73c0f2171933",
       "version_major": 2,
       "version_minor": 0
      },
      "text/plain": [
       "VBox(children=(HBox(children=(IntSlider(value=100, continuous_update=False, description='# samples', max=2000,…"
      ]
     },
     "metadata": {},
     "output_type": "display_data"
    }
   ],
   "source": [
    "mlutils.interact_traintest(params)"
   ]
  },
  {
   "cell_type": "markdown",
   "metadata": {},
   "source": [
    "### Los algoritmos de machine learning:\n",
    "\n",
    "- Los algoritmos de clasificación **calculan fronteras** entre los datos.\n",
    "- Parten de una muestra de los datos, **no de las distribuciones**.\n",
    "- Por tanto, **no conocemos** la forma de la frontera bayesiana.\n",
    "\n",
    "O sea, **partimos ciegos**!!!!!!!\n",
    "\n",
    "Para abordar esta situación, **cualquier algoritmo** tiene necesariamente que plantear una alguna suposición de base:\n",
    "\n",
    "- los datos vienen de distribuciones normales.\n",
    "- las columnas son estadísticamente independientes.\n",
    "- la frontera es lineal, o cuadrática.\n",
    "- la frontera se representa con una red neuronal.\n",
    "\n",
    "Teniendo esto en cuenta, y **partiendo de una muestra de los datos**:\n",
    "\n",
    "- el objetivo de un usuario de ML es acercarse lo más posible a la **frontera bayesiana** (que no sabemos cómo es).\n",
    "- distintos algoritmos ML tienen **distintas capacidades** para modelar fronteras (un clasificador lineal no puede captuarar una frontera cuadrática).\n",
    "- necesitamos dos tipos de herramientas:\n",
    "   - una buena colección de algoritmos ML.\n",
    "   - métodos para saber qué tan cerca estamos de la frontera bayesiana."
   ]
  },
  {
   "cell_type": "markdown",
   "metadata": {},
   "source": [
    "## application examples (for static NOTEBOOK rendering)\n",
    "\n",
    "![xx](imgs/01_app_distributions.png)\n",
    "\n",
    "![xx](imgs/01_app_classifiers.png)"
   ]
  }
 ],
 "metadata": {
  "kernelspec": {
   "display_name": "Python 3",
   "language": "python",
   "name": "python3"
  },
  "language_info": {
   "codemirror_mode": {
    "name": "ipython",
    "version": 3
   },
   "file_extension": ".py",
   "mimetype": "text/x-python",
   "name": "python",
   "nbconvert_exporter": "python",
   "pygments_lexer": "ipython3",
   "version": "3.6.8"
  }
 },
 "nbformat": 4,
 "nbformat_minor": 2
}
